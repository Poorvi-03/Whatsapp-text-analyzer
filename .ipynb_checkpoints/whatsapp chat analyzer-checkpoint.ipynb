{
 "cells": [
  {
   "cell_type": "markdown",
   "id": "5c496008",
   "metadata": {},
   "source": [
    "## To Learn\n",
    "\n",
    "panda's datetime and python's re module\n",
    "file opening,reading"
   ]
  },
  {
   "cell_type": "code",
   "execution_count": 1,
   "id": "d5b49826",
   "metadata": {
    "scrolled": true
   },
   "outputs": [
    {
     "ename": "ModuleNotFoundError",
     "evalue": "No module named 'seaborn'",
     "output_type": "error",
     "traceback": [
      "\u001b[1;31m---------------------------------------------------------------------------\u001b[0m",
      "\u001b[1;31mModuleNotFoundError\u001b[0m                       Traceback (most recent call last)",
      "Input \u001b[1;32mIn [1]\u001b[0m, in \u001b[0;36m<cell line: 5>\u001b[1;34m()\u001b[0m\n\u001b[0;32m      3\u001b[0m \u001b[38;5;28;01mimport\u001b[39;00m \u001b[38;5;21;01mpandas\u001b[39;00m \u001b[38;5;28;01mas\u001b[39;00m \u001b[38;5;21;01mpd\u001b[39;00m\n\u001b[0;32m      4\u001b[0m \u001b[38;5;28;01mimport\u001b[39;00m \u001b[38;5;21;01mmatplotlib\u001b[39;00m\u001b[38;5;21;01m.\u001b[39;00m\u001b[38;5;21;01mpyplot\u001b[39;00m \u001b[38;5;28;01mas\u001b[39;00m \u001b[38;5;21;01mplt\u001b[39;00m\n\u001b[1;32m----> 5\u001b[0m \u001b[38;5;28;01mimport\u001b[39;00m \u001b[38;5;21;01mseaborn\u001b[39;00m \u001b[38;5;28;01mas\u001b[39;00m \u001b[38;5;21;01msns\u001b[39;00m\n\u001b[0;32m      6\u001b[0m \u001b[38;5;28;01mimport\u001b[39;00m \u001b[38;5;21;01mdatetime\u001b[39;00m \u001b[38;5;28;01mas\u001b[39;00m \u001b[38;5;21;01mdt\u001b[39;00m\n\u001b[0;32m      7\u001b[0m get_ipython()\u001b[38;5;241m.\u001b[39mrun_line_magic(\u001b[38;5;124m'\u001b[39m\u001b[38;5;124mmatplotlib\u001b[39m\u001b[38;5;124m'\u001b[39m, \u001b[38;5;124m'\u001b[39m\u001b[38;5;124minline\u001b[39m\u001b[38;5;124m'\u001b[39m)\n",
      "\u001b[1;31mModuleNotFoundError\u001b[0m: No module named 'seaborn'"
     ]
    }
   ],
   "source": [
    "import re\n",
    "import numpy as np\n",
    "import pandas as pd\n",
    "import matplotlib.pyplot as plt\n",
    "import seaborn as sns\n",
    "import datetime as dt\n",
    "%matplotlib inline\n",
    "from collections import Counter"
   ]
  },
  {
   "cell_type": "markdown",
   "id": "3a11a3a5",
   "metadata": {},
   "source": [
    "## Loading data"
   ]
  },
  {
   "cell_type": "code",
   "execution_count": null,
   "id": "83a19749",
   "metadata": {},
   "outputs": [],
   "source": [
    "f = open(\"WhatsApp Chat with Jamia Math CS 21 Student.txt\",'r',encoding='utf-8')\n",
    "\n",
    "data = f.read()"
   ]
  },
  {
   "cell_type": "code",
   "execution_count": null,
   "id": "bb9895dd",
   "metadata": {},
   "outputs": [],
   "source": [
    "df."
   ]
  },
  {
   "cell_type": "code",
   "execution_count": null,
   "id": "7c2dca7f",
   "metadata": {},
   "outputs": [],
   "source": [
    "data"
   ]
  },
  {
   "cell_type": "code",
   "execution_count": null,
   "id": "0f852547",
   "metadata": {},
   "outputs": [],
   "source": [
    "dummy =data.split('\\n')"
   ]
  },
  {
   "cell_type": "code",
   "execution_count": null,
   "id": "9993678b",
   "metadata": {},
   "outputs": [],
   "source": [
    "dummy"
   ]
  },
  {
   "cell_type": "markdown",
   "id": "0fbcf05d",
   "metadata": {},
   "source": [
    "## Separating Date and time from Messages"
   ]
  },
  {
   "cell_type": "code",
   "execution_count": null,
   "id": "afc4cb14",
   "metadata": {},
   "outputs": [],
   "source": [
    "pattern ='\\d{1,2}/\\d{1,2}/\\d{2,4}, \\d{1,2}:\\d{2} [a,p][m] -'\n",
    "messages = re.split(pattern,data)[1:] \n",
    "dates= re.findall(pattern,data) "
   ]
  },
  {
   "cell_type": "code",
   "execution_count": null,
   "id": "d5628515",
   "metadata": {},
   "outputs": [],
   "source": [
    "messages"
   ]
  },
  {
   "cell_type": "code",
   "execution_count": null,
   "id": "4198bc71",
   "metadata": {},
   "outputs": [],
   "source": [
    "dates"
   ]
  },
  {
   "cell_type": "code",
   "execution_count": null,
   "id": "f16f43fe",
   "metadata": {},
   "outputs": [],
   "source": [
    "dates = re.findall(pattern,data)"
   ]
  },
  {
   "cell_type": "code",
   "execution_count": null,
   "id": "edfc3163",
   "metadata": {},
   "outputs": [],
   "source": [
    "dates"
   ]
  },
  {
   "cell_type": "code",
   "execution_count": null,
   "id": "6330cdb8",
   "metadata": {},
   "outputs": [],
   "source": [
    "#Splitting date and time from dates--> 6/11/21, 8:11 pm -'\n",
    "\n",
    "def gettimedate(string):  \n",
    "    string = string.split(',')\n",
    "    date,time = string[0],string[1]\n",
    "    time = time.split('-')\n",
    "    time = time[0].strip()\n",
    "\n",
    "    return  date+ \" \" +time"
   ]
  },
  {
   "cell_type": "markdown",
   "id": "d26587a6",
   "metadata": {},
   "source": [
    "## Creating dataFrame for messages and their dates"
   ]
  },
  {
   "cell_type": "code",
   "execution_count": null,
   "id": "67872ef8",
   "metadata": {},
   "outputs": [],
   "source": [
    "df = pd.DataFrame({'user_messages':messages,\n",
    "                   'message_date':dates})\n",
    "\n",
    "df['message_date']=df['message_date'].apply(lambda text:gettimedate(text))\n",
    "\n",
    "df.rename(columns={'message_date':'date'},inplace =True)\n",
    "\n",
    "df.head()"
   ]
  },
  {
   "cell_type": "code",
   "execution_count": null,
   "id": "770fdc96",
   "metadata": {},
   "outputs": [],
   "source": [
    "df['user_messages']"
   ]
  },
  {
   "cell_type": "markdown",
   "id": "207bbd7b",
   "metadata": {},
   "source": [
    "## seperating username and messages"
   ]
  },
  {
   "cell_type": "code",
   "execution_count": null,
   "id": "5cefa6bc",
   "metadata": {},
   "outputs": [],
   "source": [
    "users=[]\n",
    "messages=[]\n",
    "\n",
    "for message in df['user_messages']:\n",
    "\n",
    "        entry = re.split('([\\w\\W]+?):\\s', message)\n",
    "        if entry[1:]:\n",
    "            users.append(entry[1])\n",
    "            messages.append(entry[2])\n",
    "\n",
    "        else:\n",
    "            users.append('Group Notification')\n",
    "            messages.append(entry[0])\n",
    "    \n",
    "df['User'] = users\n",
    "df['message'] = messages\n",
    "\n",
    "df.head()"
   ]
  },
  {
   "cell_type": "markdown",
   "id": "e621c6f9",
   "metadata": {},
   "source": [
    "## Problem  not understood reg ex"
   ]
  },
  {
   "cell_type": "code",
   "execution_count": null,
   "id": "7b94761f",
   "metadata": {},
   "outputs": [],
   "source": [
    "abc=\"Rahul Jamia: Aisa b koi scene h\"\n",
    "re.split('([\\w\\W]+?):\\s', abc)    \n",
    "\n",
    "#observe user at index 1 and msg at index 2"
   ]
  },
  {
   "cell_type": "markdown",
   "id": "842c0593",
   "metadata": {},
   "source": [
    "### separating \\n from messages"
   ]
  },
  {
   "cell_type": "code",
   "execution_count": null,
   "id": "365ffee1",
   "metadata": {},
   "outputs": [],
   "source": [
    "ad='Poorvi is good\\n'\n",
    "ad.split('\\n')"
   ]
  },
  {
   "cell_type": "code",
   "execution_count": null,
   "id": "b6890114",
   "metadata": {},
   "outputs": [],
   "source": [
    "def getstring(text):      # line 45\n",
    "    return text.split('\\n')[0]\n",
    "\n",
    "df['message'] = df['message'].apply(lambda text: getstring(text))"
   ]
  },
  {
   "cell_type": "code",
   "execution_count": null,
   "id": "d1717315",
   "metadata": {},
   "outputs": [],
   "source": [
    "df.head()"
   ]
  },
  {
   "cell_type": "code",
   "execution_count": null,
   "id": "1a025cfd",
   "metadata": {},
   "outputs": [],
   "source": [
    "df = df.drop(['user_messages'], axis=1)\n",
    "df = df[['message', 'date', 'User']]\n",
    "\n",
    "df = df.rename(columns={'message': 'Message',\n",
    "                            'date': 'Date'})"
   ]
  },
  {
   "cell_type": "code",
   "execution_count": null,
   "id": "f14b9ccb",
   "metadata": {},
   "outputs": [],
   "source": [
    "df.head()"
   ]
  },
  {
   "cell_type": "markdown",
   "id": "e9ed95d8",
   "metadata": {},
   "source": [
    "## getting Date and Time"
   ]
  },
  {
   "cell_type": "code",
   "execution_count": null,
   "id": "ccbfe994",
   "metadata": {},
   "outputs": [],
   "source": [
    "df['Only date'] = pd.to_datetime(df['Date']).dt.date\n",
    "\n",
    "df['Year'] = pd.to_datetime(df['Date']).dt.year\n",
    "\n",
    "df['Month_num'] = pd.to_datetime(df['Date']).dt.month\n",
    "\n",
    "df['Month'] = pd.to_datetime(df['Date']).dt.month_name()\n",
    "\n",
    "df['Day'] = pd.to_datetime(df['Date']).dt.day\n",
    "\n",
    "df['Day_name'] = pd.to_datetime(df['Date']).dt.day_name()\n",
    "\n",
    "df['Hour'] = pd.to_datetime(df['Date']).dt.hour\n",
    "\n",
    "df['Minute'] = pd.to_datetime(df['Date']).dt.minute"
   ]
  },
  {
   "cell_type": "code",
   "execution_count": null,
   "id": "ecbcc0b7",
   "metadata": {},
   "outputs": [],
   "source": [
    "df.head()"
   ]
  },
  {
   "cell_type": "markdown",
   "id": "a0df6f47",
   "metadata": {},
   "source": [
    "## End of preprocess.py"
   ]
  },
  {
   "cell_type": "markdown",
   "id": "7bcc4847",
   "metadata": {},
   "source": [
    "# "
   ]
  },
  {
   "cell_type": "code",
   "execution_count": null,
   "id": "83debac9",
   "metadata": {},
   "outputs": [],
   "source": [
    "# fetch unique users\n",
    "user_list = df['User'].unique().tolist()"
   ]
  },
  {
   "cell_type": "code",
   "execution_count": null,
   "id": "2dad498b",
   "metadata": {},
   "outputs": [],
   "source": [
    "user_list"
   ]
  },
  {
   "cell_type": "code",
   "execution_count": null,
   "id": "ed0a52fa",
   "metadata": {},
   "outputs": [],
   "source": [
    "# removing the groupnotification\n",
    "\n",
    "user_list.remove('Group Notification')"
   ]
  },
  {
   "cell_type": "code",
   "execution_count": null,
   "id": "b9016b69",
   "metadata": {},
   "outputs": [],
   "source": [
    "user_list.sort()\n",
    "user_list"
   ]
  },
  {
   "cell_type": "code",
   "execution_count": null,
   "id": "4488c44d",
   "metadata": {},
   "outputs": [],
   "source": [
    "# including overall in user_list,this will be responsible for showcasing the  overall(all members) chat group analysis\n",
    "user_list.insert(0, \"Overall\")"
   ]
  },
  {
   "cell_type": "code",
   "execution_count": null,
   "id": "0cc22222",
   "metadata": {},
   "outputs": [],
   "source": [
    "user_list"
   ]
  },
  {
   "cell_type": "code",
   "execution_count": null,
   "id": "7065b0ba",
   "metadata": {},
   "outputs": [],
   "source": [
    "words = []\n",
    "for message in df['Message']:\n",
    "    words.extend(message.split()) #extend will join all msgs as single text"
   ]
  },
  {
   "cell_type": "code",
   "execution_count": null,
   "id": "42f66c1b",
   "metadata": {},
   "outputs": [],
   "source": [
    "words"
   ]
  },
  {
   "cell_type": "code",
   "execution_count": null,
   "id": "8cb1ff6b",
   "metadata": {},
   "outputs": [],
   "source": [
    "df[df['Message'] == '<Media omitted>']"
   ]
  },
  {
   "cell_type": "code",
   "execution_count": null,
   "id": "c886a709",
   "metadata": {},
   "outputs": [],
   "source": [
    "df.shape"
   ]
  },
  {
   "cell_type": "code",
   "execution_count": null,
   "id": "2ed8c261",
   "metadata": {},
   "outputs": [],
   "source": [
    " links = []\n",
    "for message in df['Message']:\n",
    "        links.extend(extract.find_urls(message))"
   ]
  },
  {
   "cell_type": "code",
   "execution_count": null,
   "id": "a7ba910e",
   "metadata": {},
   "outputs": [],
   "source": [
    "df = df[df['User'] != 'Group Notification']\n",
    "df.head()"
   ]
  },
  {
   "cell_type": "code",
   "execution_count": null,
   "id": "2ccea74f",
   "metadata": {},
   "outputs": [],
   "source": [
    "count = df['User'].value_counts().head()\n",
    "count"
   ]
  },
  {
   "cell_type": "code",
   "execution_count": null,
   "id": "88e2af8a",
   "metadata": {},
   "outputs": [],
   "source": [
    "newdf = pd.DataFrame((df['User'].value_counts()/df.shape[0])*100)\n",
    "newdf\n",
    "#it implies Rahul Jamia is 12% times active in the group"
   ]
  },
  {
   "cell_type": "code",
   "execution_count": null,
   "id": "fea7f9df",
   "metadata": {},
   "outputs": [],
   "source": [
    "df = df[df['User'] != 'Group Notification']\n",
    "count = df['User'].value_counts().head()\n",
    "\n",
    "newdf = pd.DataFrame((df['User'].value_counts()/df.shape[0])*100)"
   ]
  },
  {
   "cell_type": "code",
   "execution_count": null,
   "id": "841eda6a",
   "metadata": {},
   "outputs": [],
   "source": [
    "newdf.head(50)"
   ]
  },
  {
   "cell_type": "code",
   "execution_count": null,
   "id": "0ce0bd43",
   "metadata": {},
   "outputs": [],
   "source": [
    "df['Message']"
   ]
  },
  {
   "cell_type": "code",
   "execution_count": null,
   "id": "45bb5b24",
   "metadata": {},
   "outputs": [],
   "source": [
    "df['Message'].str.cat(sep=\" \")"
   ]
  },
  {
   "cell_type": "code",
   "execution_count": null,
   "id": "451f24fd",
   "metadata": {},
   "outputs": [],
   "source": [
    "file1 = open('stop_hinglish.txt', 'r')\n",
    "stopwords1 = file1.read()\n",
    "\n",
    "#hence we will be splitting it by \\n in coming function"
   ]
  },
  {
   "cell_type": "code",
   "execution_count": null,
   "id": "b0e4b564",
   "metadata": {},
   "outputs": [],
   "source": [
    "stopwords1"
   ]
  },
  {
   "cell_type": "code",
   "execution_count": null,
   "id": "6c84bf37",
   "metadata": {},
   "outputs": [],
   "source": [
    "df['Message']"
   ]
  },
  {
   "cell_type": "code",
   "execution_count": null,
   "id": "92ae2c23",
   "metadata": {},
   "outputs": [],
   "source": [
    "def getcommonwords(selecteduser, df):\n",
    "\n",
    "    # getting the stopwords(a,then,an,the,you,ok--> common articles)\n",
    "\n",
    "    file = open('stop_hinglish.txt', 'r')\n",
    "    stopwords = file.read()\n",
    "    stopwords = stopwords.split('\\n')\n",
    "\n",
    "    if selecteduser != 'Overall':\n",
    "        df = df[df['User'] == selecteduser]\n",
    "\n",
    "    temp = df[(df['User'] != 'Group Notification') |\n",
    "              (df['User'] != '<Media omitted>')]\n",
    "\n",
    "    words = []\n",
    "\n",
    "    for message in temp['Message']:\n",
    "        for word in message.lower().split():\n",
    "            if word not in stopwords:\n",
    "                words.append(word)\n",
    "\n",
    "    mostcommon = pd.DataFrame(Counter(words).most_common(20))\n",
    "    return mostcommon\n",
    "\n",
    "most_common = getcommonwords('Overall', df)"
   ]
  },
  {
   "cell_type": "code",
   "execution_count": null,
   "id": "7b067da6",
   "metadata": {},
   "outputs": [],
   "source": [
    "most_common.head(25)"
   ]
  },
  {
   "cell_type": "code",
   "execution_count": null,
   "id": "1c156de9",
   "metadata": {},
   "outputs": [],
   "source": [
    "for message in df['Message']:\n",
    "        for word in message.lower().split():\n",
    "            print(word)"
   ]
  },
  {
   "cell_type": "code",
   "execution_count": null,
   "id": "16326d16",
   "metadata": {},
   "outputs": [],
   "source": [
    "def monthtimeline(selecteduser, df):\n",
    "\n",
    "    if selecteduser != 'Overall':\n",
    "        df = df[df['User'] == selecteduser]\n",
    "\n",
    "    temp = df.groupby(['Year', 'Month_num', 'Month']).count()[\n",
    "        'Message'].reset_index()\n",
    "\n",
    "    time = []\n",
    "    for i in range(temp.shape[0]):\n",
    "        time.append(temp['Month'][i]+\"-\"+str(temp['Year'][i]))\n",
    "\n",
    "    temp['Time'] = time\n",
    "\n",
    "    return temp"
   ]
  },
  {
   "cell_type": "code",
   "execution_count": null,
   "id": "0ea5973a",
   "metadata": {},
   "outputs": [],
   "source": [
    " df.head()"
   ]
  },
  {
   "cell_type": "code",
   "execution_count": null,
   "id": "102e4e4d",
   "metadata": {},
   "outputs": [],
   "source": [
    "df.groupby(['Year', 'Month_num', 'Month']).count()"
   ]
  },
  {
   "cell_type": "code",
   "execution_count": null,
   "id": "13286205",
   "metadata": {},
   "outputs": [],
   "source": [
    "df.groupby(['Year', 'Month_num', 'Month']).count()[\n",
    "        'Message']"
   ]
  },
  {
   "cell_type": "code",
   "execution_count": null,
   "id": "e102bdd7",
   "metadata": {},
   "outputs": [],
   "source": [
    "df.groupby(['Year', 'Month_num', 'Month']).count()[\n",
    "        'Message'].reset_index()\n"
   ]
  },
  {
   "cell_type": "code",
   "execution_count": null,
   "id": "cf2d3176",
   "metadata": {},
   "outputs": [],
   "source": [
    " temp = df.groupby(['Year', 'Month_num', 'Month']).count()[\n",
    "        'Message'].reset_index() "
   ]
  },
  {
   "cell_type": "code",
   "execution_count": null,
   "id": "0d947b97",
   "metadata": {},
   "outputs": [],
   "source": [
    "temp.head()"
   ]
  },
  {
   "cell_type": "code",
   "execution_count": null,
   "id": "4b6c5881",
   "metadata": {},
   "outputs": [],
   "source": [
    "temp['Month']"
   ]
  },
  {
   "cell_type": "code",
   "execution_count": null,
   "id": "65302b77",
   "metadata": {},
   "outputs": [],
   "source": [
    "for i in range(temp.shape[0]):\n",
    "    print(temp['Month'][i])"
   ]
  },
  {
   "cell_type": "code",
   "execution_count": null,
   "id": "cf1cd183",
   "metadata": {},
   "outputs": [],
   "source": [
    "time = []\n",
    "for i in range(temp.shape[0]):\n",
    "    time.append(temp['Month'][i]+\"-\"+str(temp['Year'][i]))\n",
    "\n",
    "temp['Time'] = time"
   ]
  },
  {
   "cell_type": "code",
   "execution_count": null,
   "id": "ec13bee7",
   "metadata": {},
   "outputs": [],
   "source": [
    "temp.head()"
   ]
  },
  {
   "cell_type": "markdown",
   "id": "ec244896",
   "metadata": {},
   "source": [
    "# "
   ]
  },
  {
   "cell_type": "code",
   "execution_count": null,
   "id": "5cbb1685",
   "metadata": {},
   "outputs": [],
   "source": [
    "temp1=df['Day_name'].value_counts()"
   ]
  },
  {
   "cell_type": "code",
   "execution_count": null,
   "id": "3ab00125",
   "metadata": {},
   "outputs": [],
   "source": []
  }
 ],
 "metadata": {
  "kernelspec": {
   "display_name": "Python 3 (ipykernel)",
   "language": "python",
   "name": "python3"
  },
  "language_info": {
   "codemirror_mode": {
    "name": "ipython",
    "version": 3
   },
   "file_extension": ".py",
   "mimetype": "text/x-python",
   "name": "python",
   "nbconvert_exporter": "python",
   "pygments_lexer": "ipython3",
   "version": "3.10.6"
  }
 },
 "nbformat": 4,
 "nbformat_minor": 5
}
